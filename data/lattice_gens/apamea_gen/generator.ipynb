{
 "cells": [
  {
   "cell_type": "code",
   "execution_count": 2,
   "id": "0b88121c",
   "metadata": {},
   "outputs": [],
   "source": [
    "import numpy as np\n",
    "import numba\n",
    "import configparser"
   ]
  },
  {
   "cell_type": "code",
   "execution_count": 6,
   "id": "cac4692d",
   "metadata": {},
   "outputs": [
    {
     "name": "stdout",
     "output_type": "stream",
     "text": [
      "1280\n",
      "sbatch -p amd -N 1 -o \"apamea/apamea_N1280.out\" --exclusive -J \"n0\" start.sh apamea/apamea_N1280.ini -f apamea/apamea_N1280.mfsys --save 10\n"
     ]
    }
   ],
   "source": [
    "@numba.njit\n",
    "def getDistances():\n",
    "    distances = np.zeros((n, n, 2))\n",
    "    for i in numba.prange(n):\n",
    "        tmp = points-points[i]\n",
    "        if PBC:\n",
    "            tmp[tmp[:,0] >  syssize2,0] -= syssize\n",
    "            tmp[tmp[:,0] < -syssize2,0] += syssize\n",
    "            tmp[tmp[:,1] >  syssize2,1] -= syssize\n",
    "            tmp[tmp[:,1] < -syssize2,1] += syssize\n",
    "        distances[i] = tmp\n",
    "    return distances\n",
    "\n",
    "@numba.njit\n",
    "def E_sys(x, y, mx, my, r_=0):\n",
    "    E = np.zeros((x.size, x.size))\n",
    "    #k = 1.268276778520414e-21\n",
    "    k = 1\n",
    "    r = getDistances()\n",
    "    for i in range(x.size):\n",
    "        for j in range(i+1, y.size):\n",
    "            r_ij = r[i, j]\n",
    "            m_i = np.array((mx[i], my[i]))\n",
    "            m_j = np.array((mx[j], my[j]))\n",
    "            r_ij_mod = np.sqrt((r_ij**2).sum())\n",
    "            if (r_ == 0) or (r_ij_mod < r_):\n",
    "                A = np.dot(m_i, m_j)/(r_ij_mod**3)\n",
    "                B = np.dot(m_i, r_ij) * np.dot(m_j, r_ij) / (r_ij_mod**5)\n",
    "                E[j, i] = E[i, j] = (A - 3*B) * k\n",
    "    return E\n",
    "\n",
    "PBC = True\n",
    "\n",
    "\n",
    "evenFile = \"unitCellEven.mfsys\"\n",
    "oddFile = \"unitCellOdd.mfsys\"\n",
    "e = np.loadtxt(evenFile,skiprows=14)\n",
    "o = np.loadtxt(oddFile,skiprows=14)\n",
    "N = 8\n",
    "\n",
    "head = f'''[header]\n",
    "version=2\n",
    "dimensions=3\n",
    "type=standart\n",
    "size={e.shape[0]*N*N}\n",
    "emin=0.000000\n",
    "emax=0.000000\n",
    "state={'0'*(e.shape[0]*N*N)}\n",
    "minstate=\n",
    "maxstate=\n",
    "interactionrange=0\n",
    "sizescale=1\n",
    "magnetizationscale=1\n",
    "[parts]'''\n",
    "\n",
    "lattice = np.empty((0,8), int)\n",
    "\n",
    "for i in range(N):\n",
    "    for j in range(N):\n",
    "        if (i+j)%2 == 1:\n",
    "            lattice = np.vstack((lattice, e + np.array([0, 4*i, 4*j, 0, 0, 0, 0, 0])))\n",
    "        else:\n",
    "            lattice = np.vstack((lattice, o + np.array([0, 4*i, 4*j, 0, 0, 0, 0, 0])))\n",
    "n = lattice.shape[0]\n",
    "\n",
    "points = lattice[:, [1, 2]]\n",
    "syssize = N*4\n",
    "syssize2 = syssize/2\n",
    "\n",
    "#E = E_sys(lattice[:, 1], lattice[:, 2], lattice[:, 4], lattice[:, 5])\n",
    "lattice[:, 0] = np.arange(0, lattice.shape[0])\n",
    "lattice[:, -1] = 0\n",
    "\n",
    "\n",
    "\n",
    "np.savetxt(f'apamea_N{e.shape[0]*N*N}.mfsys', lattice, header=head, comments='', fmt='%d %05.5f %05.5f %05.5f %05.5f %05.5f %05.5f %d')\n",
    "print(lattice.shape[0])\n",
    "print(f'sbatch -p amd -N 1 -o \"apamea/apamea_N{len(lattice)}.out\" --exclusive -J \"n0\" start.sh apamea/apamea_N{len(lattice)}.ini -f apamea/apamea_N{len(lattice)}.mfsys --save 10')"
   ]
  },
  {
   "cell_type": "code",
   "execution_count": 5,
   "id": "840c402e",
   "metadata": {},
   "outputs": [
    {
     "name": "stdout",
     "output_type": "stream",
     "text": [
      "\n",
      " ############# ini file created successfully #############\n",
      "\n"
     ]
    }
   ],
   "source": [
    "def make_ini(n: int, temperatures=np.logspace(0, 1, 20), name='apamea_N1280.ini', steps=10000, r=5.1):\n",
    "    config = configparser.ConfigParser()\n",
    "    syssize = n*4\n",
    "\n",
    "\n",
    "    config['main'] = {\n",
    "        'file': f'apamea_N{lattice.shape[0]}.mfsys',\n",
    "        'heatup': f'{steps}',\n",
    "        'calculate': f'{steps}',\n",
    "        'range': f'{r}',\n",
    "        'seed': '123',\n",
    "        'temperature': ', '.join(map(str, temperatures)),\n",
    "        'field': '0|0',\n",
    "        'boundaries': 'periodic',\n",
    "        'size': f'{syssize}|{syssize}',\n",
    "        'restart': '1',\n",
    "        'restartThreshold': '1e-6',\n",
    "        'saveGS': 'apamea_gs.mfsys'\n",
    "    }\n",
    "    with open(name, 'w') as f:\n",
    "        config.write(f)\n",
    "    print(\"\\n ############# ini file created successfully #############\\n\")\n",
    "\n",
    "make_ini(N, temperatures=np.logspace(0, 1, 50), name=f\"apamea_N{lattice.shape[0]}.ini\")"
   ]
  }
 ],
 "metadata": {
  "kernelspec": {
   "display_name": "Python 3",
   "language": "python",
   "name": "python3"
  },
  "language_info": {
   "codemirror_mode": {
    "name": "ipython",
    "version": 3
   },
   "file_extension": ".py",
   "mimetype": "text/x-python",
   "name": "python",
   "nbconvert_exporter": "python",
   "pygments_lexer": "ipython3",
   "version": "3.10.2"
  }
 },
 "nbformat": 4,
 "nbformat_minor": 5
}
